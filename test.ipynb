{
 "cells": [
  {
   "cell_type": "markdown",
   "id": "5731515b",
   "metadata": {},
   "source": [
    "## Test the model"
   ]
  },
  {
   "cell_type": "code",
   "execution_count": null,
   "id": "939c16a1",
   "metadata": {},
   "outputs": [],
   "source": [
    "import pandas as pd\n",
    "import json"
   ]
  },
  {
   "cell_type": "code",
   "execution_count": null,
   "id": "4f2a2003",
   "metadata": {},
   "outputs": [],
   "source": [
    "df = pd.read_csv(\"data/test_data.csv\")\n",
    "df.head()"
   ]
  },
  {
   "cell_type": "code",
   "execution_count": null,
   "id": "ce8a20e4",
   "metadata": {},
   "outputs": [],
   "source": [
    "df.iloc[:1].head()"
   ]
  },
  {
   "cell_type": "code",
   "execution_count": null,
   "id": "7e80abe1",
   "metadata": {},
   "outputs": [],
   "source": [
    "data_as_dict = df.iloc[:1].to_dict(orient=\"records\")\n",
    "data_as_dict"
   ]
  },
  {
   "cell_type": "markdown",
   "id": "0d13d9c1",
   "metadata": {},
   "source": [
    "## Test the model (simple endpoint)"
   ]
  },
  {
   "cell_type": "code",
   "execution_count": null,
   "id": "64aca130",
   "metadata": {},
   "outputs": [],
   "source": [
    "endpoint_address = \"localhost:3000\""
   ]
  },
  {
   "cell_type": "code",
   "execution_count": null,
   "id": "d79925d9",
   "metadata": {},
   "outputs": [],
   "source": [
    "import requests\n",
    "\n",
    "response = requests.post(\n",
    "    f\"http://{endpoint_address}/predict_v1\",\n",
    "    data={\"data\": json.dumps(data_as_dict)},\n",
    ")\n",
    "\n",
    "response.json()"
   ]
  },
  {
   "cell_type": "code",
   "execution_count": null,
   "id": "99c1a07a",
   "metadata": {},
   "outputs": [],
   "source": [
    "def get_prediction(dataframe: pd.DataFrame, version: str) -> pd.DataFrame:\n",
    "\n",
    "    data_as_dict = dataframe.to_dict(orient=\"records\")\n",
    "\n",
    "    response = requests.post(f\"http://localhost:3000/predict_{version}\", data={\"data\": json.dumps(data_as_dict)})\n",
    "\n",
    "    return pd.DataFrame.from_dict(response.json())"
   ]
  },
  {
   "cell_type": "code",
   "execution_count": null,
   "id": "ceea3c63",
   "metadata": {},
   "outputs": [],
   "source": [
    "get_prediction(df.iloc[:1], \"v1\")"
   ]
  },
  {
   "cell_type": "code",
   "execution_count": null,
   "id": "30a37da7",
   "metadata": {},
   "outputs": [],
   "source": [
    "get_prediction(df, \"v2\")"
   ]
  },
  {
   "cell_type": "code",
   "execution_count": null,
   "id": "601cdd4e",
   "metadata": {},
   "outputs": [],
   "source": []
  }
 ],
 "metadata": {
  "kernelspec": {
   "display_name": ".venv",
   "language": "python",
   "name": "python3"
  },
  "language_info": {
   "codemirror_mode": {
    "name": "ipython",
    "version": 3
   },
   "file_extension": ".py",
   "mimetype": "text/x-python",
   "name": "python",
   "nbconvert_exporter": "python",
   "pygments_lexer": "ipython3",
   "version": "3.11.9"
  }
 },
 "nbformat": 4,
 "nbformat_minor": 5
}
